{
 "cells": [
  {
   "cell_type": "code",
   "execution_count": 3,
   "metadata": {},
   "outputs": [
    {
     "name": "stdout",
     "output_type": "stream",
     "text": [
      "12.400541822839838\n"
     ]
    }
   ],
   "source": [
    "#Question1.1\n",
    "class Triangle:\n",
    "    def __init__(self,s1,s2,s3):\n",
    "        self.s1=s1\n",
    "        self.s2=s2\n",
    "        self.s3=s3\n",
    "\n",
    "class TriArea(Triangle):\n",
    "    def __init__(self,*args):\n",
    "        super(TriArea,self).__init__(*args)\n",
    "    def area(self):\n",
    "        s=(self.s1+self.s2+self.s3)/2\n",
    "        area=s*(s-self.s1)*(s-self.s2)*(s-self.s3)**0.5\n",
    "        return area\n",
    "\n",
    "objTri=TriArea(3,3,3)\n",
    "print(objTri.area())"
   ]
  },
  {
   "cell_type": "code",
   "execution_count": 9,
   "metadata": {},
   "outputs": [
    {
     "data": {
      "text/plain": [
       "['hello', 'world', 'kill', 'create']"
      ]
     },
     "execution_count": 9,
     "metadata": {},
     "output_type": "execute_result"
    }
   ],
   "source": [
    "#Question1.2\n",
    "def filter_long_words(words,limit):\n",
    "    wordReturn=[]\n",
    "    for word in words:\n",
    "        if len(word)>limit:\n",
    "            wordReturn.append(word)\n",
    "    return wordReturn\n",
    "\n",
    "l=['hello','world','how','you','are','kill','create']\n",
    "n=3\n",
    "\n",
    "filter_long_words(l,n)\n",
    "    "
   ]
  },
  {
   "cell_type": "code",
   "execution_count": 11,
   "metadata": {},
   "outputs": [
    {
     "data": {
      "text/plain": [
       "[5, 5, 3, 3, 3, 4, 6]"
      ]
     },
     "execution_count": 11,
     "metadata": {},
     "output_type": "execute_result"
    }
   ],
   "source": [
    "#Question2.1\n",
    "def len_words(words):\n",
    "    wordReturn=[]\n",
    "    for word in words:\n",
    "        wordReturn.append(len(word))\n",
    "    return wordReturn\n",
    "\n",
    "l=['hello','world','how','you','are','kill','create']\n",
    "\n",
    "len_words(l)"
   ]
  },
  {
   "cell_type": "code",
   "execution_count": 14,
   "metadata": {},
   "outputs": [
    {
     "data": {
      "text/plain": [
       "False"
      ]
     },
     "execution_count": 14,
     "metadata": {},
     "output_type": "execute_result"
    }
   ],
   "source": [
    "#Question2.2\n",
    "def vowelIdentification(in_chr):\n",
    "    if in_chr in ['a','e','i','o','u']:\n",
    "        return True\n",
    "    else:\n",
    "        return False\n",
    "x=vowelIdentification('x')\n",
    "x"
   ]
  },
  {
   "cell_type": "code",
   "execution_count": null,
   "metadata": {},
   "outputs": [],
   "source": []
  }
 ],
 "metadata": {
  "kernelspec": {
   "display_name": "Python 3",
   "language": "python",
   "name": "python3"
  },
  "language_info": {
   "codemirror_mode": {
    "name": "ipython",
    "version": 3
   },
   "file_extension": ".py",
   "mimetype": "text/x-python",
   "name": "python",
   "nbconvert_exporter": "python",
   "pygments_lexer": "ipython3",
   "version": "3.8.3"
  }
 },
 "nbformat": 4,
 "nbformat_minor": 4
}
